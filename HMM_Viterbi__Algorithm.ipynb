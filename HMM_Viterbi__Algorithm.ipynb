{
  "nbformat": 4,
  "nbformat_minor": 0,
  "metadata": {
    "colab": {
      "name": "HMM_Viterbi _Algorithm",
      "provenance": [],
      "authorship_tag": "ABX9TyOX5iBxQpbAYWHt6FS3vS4e"
    },
    "kernelspec": {
      "name": "python3",
      "display_name": "Python 3"
    }
  },
  "cells": [
    {
      "cell_type": "code",
      "metadata": {
        "colab": {
          "base_uri": "https://localhost:8080/"
        },
        "id": "FFi7vvXO3LRU",
        "outputId": "802351b3-ff67-44d6-eea3-eca0be9478ef"
      },
      "source": [
        "#Given Transition Probabilities\n",
        "p_11 = 0.2\n",
        "p_12 = 0.4\n",
        "p_13 = 0.4\n",
        "p_21 = 0.3\n",
        "p_22 = 0.0\n",
        "p_23=  0.7\n",
        "p_31 = 0.4\n",
        "p_32 = 0.0\n",
        "p_33 = 0.6\n",
        "\n",
        "#Given Initial Probabilities\n",
        "p_1 = 0.4\n",
        "p_2 = 0.6\n",
        "p_3 = 0.0\n",
        "\n",
        "#Given Emission Probabilities\n",
        "p_1x = 0.2\n",
        "p_1y = 0.4\n",
        "p_1z = 0.0\n",
        "p_2x = 0.0\n",
        "p_2y = 0.3\n",
        "p_2z = 0.7\n",
        "p_3x = 0.4\n",
        "p_3y = 0.1\n",
        "p_3z = 0.5\n",
        "\n",
        "seq = ['X','X','Z']\n",
        "probabilities = []\n",
        "out = []\n",
        "\n",
        "if seq[0] == 'X':\n",
        "    probabilities.append((p_1*p_1x, p_2*p_2x,p_3*p_3x))\n",
        "else:\n",
        "    probabilities.append((p_1*p_1z, p_2*p_2z,p_3*p_3z))\n",
        "\n",
        "for i in range(1,len(seq)):\n",
        "    yesterday_1, yesterday_2,yesterday_3 = probabilities[-1]\n",
        "    #Given sequence has only X and Z, so we consider these cases only\n",
        "    if seq[i] == 'X':\n",
        "        today_1 = max(yesterday_1*p_11*p_1x, yesterday_2*p_21*p_1x, yesterday_3*p_31*p_1x)\n",
        "        today_2 = max(yesterday_1*p_12*p_2x, yesterday_2*p_22*p_2x, yesterday_3*p_32*p_2x)\n",
        "        today_3 = max(yesterday_1*p_13*p_3x, yesterday_2*p_23*p_3x, yesterday_3*p_33*p_3x)\n",
        "        probabilities.append((today_1, today_2,today_3))\n",
        "    else:\n",
        "        today_1 = max(yesterday_1*p_11*p_1z, yesterday_2*p_21*p_1z, yesterday_3*p_31*p_1z)\n",
        "        today_2 = max(yesterday_1*p_12*p_2z, yesterday_2*p_22*p_2z, yesterday_3*p_32*p_2z)\n",
        "        today_3 = max(yesterday_1*p_13*p_3z, yesterday_2*p_23*p_3z, yesterday_3*p_33*p_3z)\n",
        "        probabilities.append((today_1, today_2,today_3))\n",
        "\n",
        "\n",
        "for p in probabilities:\n",
        "  if(p[0]>p[1] and p[0]>p[2]):\n",
        "    out.append('1')\n",
        "  elif(p[1]>p[0] and p[1]>p[2]):\n",
        "     out.append('2')\n",
        "  else :\n",
        "    out.append('3')   \n",
        "\n",
        "print(out)\n"
      ],
      "execution_count": 2,
      "outputs": [
        {
          "output_type": "stream",
          "text": [
            "['1', '3', '3']\n"
          ],
          "name": "stdout"
        }
      ]
    },
    {
      "cell_type": "code",
      "metadata": {
        "colab": {
          "base_uri": "https://localhost:8080/"
        },
        "id": "RjenCTvVAsOe",
        "outputId": "c1e9fad0-594d-4efb-b1a0-400f74521a13"
      },
      "source": [
        "probabilities"
      ],
      "execution_count": 3,
      "outputs": [
        {
          "output_type": "execute_result",
          "data": {
            "text/plain": [
              "[(0.08000000000000002, 0.0, 0.0),\n",
              " (0.003200000000000001, 0.0, 0.012800000000000004),\n",
              " (0.0, 0.0008960000000000003, 0.003840000000000001)]"
            ]
          },
          "metadata": {
            "tags": []
          },
          "execution_count": 3
        }
      ]
    }
  ]
}